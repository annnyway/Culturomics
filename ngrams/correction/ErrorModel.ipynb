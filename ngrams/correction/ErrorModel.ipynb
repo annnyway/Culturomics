{
 "cells": [
  {
   "cell_type": "code",
   "execution_count": 2,
   "metadata": {},
   "outputs": [],
   "source": [
    "import pandas as pd\n",
    "from Levenshtein import editops, distance\n",
    "from collections import Counter"
   ]
  },
  {
   "cell_type": "code",
   "execution_count": 97,
   "metadata": {},
   "outputs": [],
   "source": [
    "df = pd.read_csv('a_utf8.csv', encoding='utf-8', low_memory=False)"
   ]
  },
  {
   "cell_type": "code",
   "execution_count": 98,
   "metadata": {},
   "outputs": [],
   "source": [
    "unique_errors = df[df['new_ngram'].notna()].drop_duplicates(subset='n_gram')"
   ]
  },
  {
   "cell_type": "code",
   "execution_count": 99,
   "metadata": {},
   "outputs": [],
   "source": [
    "unique_all = pd.concat([df[df['new_ngram'].notna()], df[df['is_bastard']==0]], axis=0, ignore_index=True).drop_duplicates(subset='n_gram')"
   ]
  },
  {
   "cell_type": "code",
   "execution_count": 103,
   "metadata": {},
   "outputs": [
    {
     "data": {
      "text/plain": [
       "179"
      ]
     },
     "execution_count": 103,
     "metadata": {},
     "output_type": "execute_result"
    }
   ],
   "source": [
    "len(unique_all)"
   ]
  },
  {
   "cell_type": "code",
   "execution_count": 100,
   "metadata": {},
   "outputs": [],
   "source": [
    "not_to_correct = unique_all[unique_all['is_bastard']==0]"
   ]
  },
  {
   "cell_type": "code",
   "execution_count": 101,
   "metadata": {},
   "outputs": [],
   "source": [
    "unique_all.loc[not_to_correct.index, ['new_ngram']] = not_to_correct['n_gram']"
   ]
  },
  {
   "cell_type": "code",
   "execution_count": 104,
   "metadata": {},
   "outputs": [],
   "source": [
    "corrections = unique_errors['new_ngram'].astype(str).tolist()\n",
    "errors = unique_errors['n_gram'].astype(str).tolist()"
   ]
  },
  {
   "cell_type": "code",
   "execution_count": 105,
   "metadata": {},
   "outputs": [],
   "source": [
    "with_all = unique_all['new_ngram'].astype(str).tolist()\n",
    "with_errors = unique_all['n_gram'].astype(str).tolist()"
   ]
  },
  {
   "cell_type": "code",
   "execution_count": 110,
   "metadata": {},
   "outputs": [],
   "source": [
    "dists=[]\n",
    "edit_ops=[]"
   ]
  },
  {
   "cell_type": "code",
   "execution_count": 111,
   "metadata": {
    "scrolled": false
   },
   "outputs": [
    {
     "name": "stdout",
     "output_type": "stream",
     "text": [
      "('АКАДЕМІИ', 'АКАДЕНШ')\n",
      "3\n",
      "('НАРОДНОЕ', 'АРОДНОЕ')\n",
      "1\n",
      "('Августа', 'Авгуота')\n",
      "1\n",
      "('Августъ', 'Августь')\n",
      "1\n",
      "('Австріи', 'Австрж')\n",
      "2\n",
      "('Агаѳангела', 'Агаоангела')\n",
      "1\n",
      "('Аѳанасьевской', 'Аеанасьевской')\n",
      "1\n",
      "('Аѳонасій', 'Аеонасш')\n",
      "3\n",
      "('Аѳонѣ', 'Аеонт')\n",
      "2\n",
      "('Australian', 'Аиз1гаНап')\n",
      "10\n",
      "('Акcаковъ', 'Акеаковъ')\n",
      "1\n",
      "('Алекcея', 'Алекеея')\n",
      "1\n",
      "('Алексѣй', 'АлексЪй')\n",
      "1\n",
      "('Александринскаго', 'Александрннскаго')\n",
      "1\n",
      "('Александровича', 'Александровича2')\n",
      "1\n",
      "('Александровскаго', 'Александровскаю')\n",
      "2\n",
      "('Алексѣя', 'Алексая')\n",
      "1\n",
      "('Альпійскую', 'Альшйскую')\n",
      "2\n",
      "('Амфилохія', 'Амфилохгя')\n",
      "1\n",
      "('Анастасія', 'Анасташ')\n",
      "3\n",
      "('Анатоліе', 'Анатолге')\n",
      "1\n",
      "('Андреевичъ', 'Андреевпчъ')\n",
      "1\n",
      "('Апостолы', 'Аностолы')\n",
      "1\n",
      "('Арестованіе', 'Арестоваше')\n",
      "2\n",
      "('Арзамасскій', 'Арзамасскш')\n",
      "2\n",
      "('Артиллерійскаго', 'АртиллерШскаго')\n",
      "2\n",
      "('Архангельскій', 'Архангельскш')\n",
      "2\n",
      "('Архіерейскаго', 'Архгерейскаго')\n",
      "1\n",
      "('Архимандритовъ', 'АрхимандритовЪ')\n",
      "1\n",
      "('Aceraceae', 'Асегасеае')\n",
      "9\n",
      "('Афанасій', 'Афанасш')\n",
      "2\n",
      "('дѣятелей', 'Ъятелей')\n",
      "2\n",
      "('Lazare', 'Ьагаге')\n",
      "6\n",
      "('Lady', 'Ьайу')\n",
      "4\n",
      "('banke', 'Ьапке')\n",
      "5\n",
      "('ЯЗЫК', 'Я8ЫК')\n",
      "1\n",
      "('Японскіе', 'Японск1е')\n",
      "1\n",
      "('fabula', 'аЬи1а')\n",
      "6\n",
      "('заключеніи', 'ааключенш')\n",
      "3\n",
      "('занимает', 'аанимает')\n",
      "1\n",
      "('заново', 'ааново')\n",
      "1\n",
      "('находятся', 'ааходятся')\n",
      "1\n",
      "('абіе', 'аб1е')\n",
      "1\n",
      "('абстракції', 'абстракцп')\n",
      "2\n",
      "('август', 'авгусг')\n",
      "1\n",
      "('своими', 'авоими')\n",
      "1\n",
      "('австро', 'авсгро')\n",
      "1\n",
      "('австрійскими', 'австрШскимп')\n",
      "3\n",
      "('слѣдующихъ', 'агвдующихъ')\n",
      "3\n",
      "('аглинскіе', 'аглинсше')\n",
      "2\n",
      "('администраціи', 'адмивистращи')\n",
      "3\n",
      "('администраціи', 'админпстращи')\n",
      "3\n",
      "('адміністративних', 'адмшктративних')\n",
      "4\n",
      "('здоровыхъ', 'адоровыхъ')\n",
      "1\n",
      "('некоторые', 'аекоторые')\n",
      "1\n",
      "('первымъ', 'аервымъ')\n",
      "1\n",
      "('песни', 'аесни')\n",
      "1\n",
      "('каждой', 'аждой')\n",
      "1\n",
      "('aurea', 'аигеа')\n",
      "5\n",
      "('август', 'аигуст')\n",
      "1\n",
      "('академическія', 'академическ1я')\n",
      "1\n",
      "('академія', 'академхя')\n",
      "1\n",
      "('активному', 'активиому')\n",
      "1\n",
      "('александрійскій', 'александрШскш')\n",
      "4\n",
      "('аммуниціи', 'аммуннцш')\n",
      "3\n",
      "('амидной', 'амндной')\n",
      "1\n",
      "('амнистіи', 'ампистш')\n",
      "3\n",
      "('аналогію', 'анадопю')\n",
      "3\n",
      "('аналогии', 'аналогин')\n",
      "1\n",
      "('анатомическія', 'анатомичесмя')\n",
      "2\n",
      "('анатомич', 'анатомнч')\n",
      "1\n",
      "('значительное', 'аначительное')\n",
      "1\n",
      "('амбаром', 'анбаром')\n",
      "1\n",
      "('англійскихъ', 'англтскихъ')\n",
      "2\n",
      "('августе', 'ангусте')\n",
      "1\n",
      "('анализа', 'анллиза')\n",
      "1\n",
      "('антагонист', 'антагонис')\n",
      "1\n",
      "('ангел', 'антел')\n",
      "1\n",
      "('антропологическій', 'антропологичесюй')\n",
      "2\n",
      "('антропофагіи', 'антропофагш')\n",
      "2\n",
      "('англійскомъ', 'аншйскомъ')\n",
      "3\n",
      "('аѳонскому', 'аоонскому')\n",
      "1\n",
      "('анатомо', 'апатомо')\n",
      "1\n",
      "('апрѣля', 'апрьля')\n",
      "1\n",
      "('античныхъ', 'аптичныхъ')\n",
      "1\n",
      "('армией', 'армией3')\n",
      "1\n",
      "('армянскій', 'армянск1й')\n",
      "1\n",
      "('арсеналѣ', 'арсеналЬ')\n",
      "1\n",
      "('артикуляціи', 'артикуляши')\n",
      "2\n",
      "('архіепископля', 'арх1епископля')\n",
      "1\n",
      "('архаическій', 'архаическш')\n",
      "2\n",
      "('патріархальностью', 'архальностью')\n",
      "5\n",
      "('архидіакона', 'архиддакона')\n",
      "1\n",
      "('архиепископ', 'архиеписко')\n",
      "1\n",
      "('архимандрія', 'архимандр1я')\n",
      "1\n",
      "('архитектурно', 'архнтектурно')\n",
      "1\n",
      "('ассигнования', 'ассигиования')\n",
      "1\n",
      "('ассигнованія', 'ассигнован1я')\n",
      "1\n",
      "('ассигнованій', 'ассигноватй')\n",
      "2\n",
      "('астрономіи', 'астроном1И')\n",
      "2\n",
      "('астрономіі', 'астрономм')\n",
      "2\n",
      "('афганскій', 'афганскШ')\n",
      "2\n",
      "('дѣятельность', 'ьятельность')\n",
      "2\n",
      "('закона', 'яакона')\n",
      "1\n",
      "('явленія', 'явлен.я')\n",
      "1\n",
      "('явленія', 'явленйя')\n",
      "1\n",
      "('явлений', 'явлеппй')\n",
      "2\n",
      "('является', 'являетег')\n",
      "2\n",
      "('явить', 'явнть')\n",
      "1\n",
      "('является', 'ядляется')\n",
      "1\n",
      "('яcнѣе', 'яенЬе')\n",
      "2\n",
      "('языковѣдѣнія', 'языковедвшя')\n",
      "4\n",
      "('quarto', 'яиаг1о')\n",
      "6\n",
      "('золото', 'яолото')\n",
      "1\n",
      "('получить', 'яолучить')\n",
      "1\n",
      "('ясность', 'ясиость')\n",
      "1\n",
      "('ясності', 'ясностт')\n",
      "1\n",
      "('живеть', 'яшветъ')\n",
      "3\n",
      "('ящикѣ', 'ящикв')\n",
      "1\n",
      "('Москвы', 'А1осквы')\n",
      "2\n",
      "('Англія', 'Авгл1я')\n",
      "2\n",
      "('Августинъ', 'Августннъ')\n",
      "1\n",
      "('Австралии', 'Австралии1')\n",
      "1\n",
      "('Австрии', 'Австрии1')\n",
      "1\n"
     ]
    }
   ],
   "source": [
    "for pair in zip(corrections, errors):\n",
    "    print(pair)\n",
    "    print(distance(pair[0],pair[1]))\n",
    "    dists.append(distance(pair[0],pair[1]))"
   ]
  },
  {
   "cell_type": "code",
   "execution_count": 108,
   "metadata": {},
   "outputs": [],
   "source": [
    "dist_counts = Counter(dists)"
   ]
  },
  {
   "cell_type": "code",
   "execution_count": 112,
   "metadata": {},
   "outputs": [
    {
     "name": "stdout",
     "output_type": "stream",
     "text": [
      "\n",
      "57.25806451612904 % of errors have edit distance 1\n",
      "\n",
      "22.58064516129032 % of errors have edit distance 2\n",
      "\n",
      "10.483870967741936 % of errors have edit distance 3\n",
      "\n",
      "9.67741935483871 % of errors have edit distance more than 3 (probably it is transliteration)\n",
      "\n"
     ]
    }
   ],
   "source": [
    "print('''\n",
    "{} % of errors have edit distance 1\\n\n",
    "{} % of errors have edit distance 2\\n\n",
    "{} % of errors have edit distance 3\\n\n",
    "{} % of errors have edit distance more than 3 (probably it is transliteration)\n",
    "'''.format(dist_counts[1]/len(dists)*100, \n",
    "           dist_counts[2]/len(dists)*100, \n",
    "           dist_counts[3]/len(dists)*100,\n",
    "           (len(dists)-dist_counts[1]-dist_counts[2]-dist_counts[3])/len(dists)*100))"
   ]
  },
  {
   "cell_type": "code",
   "execution_count": 113,
   "metadata": {},
   "outputs": [],
   "source": [
    "error_df=''"
   ]
  },
  {
   "cell_type": "code",
   "execution_count": 114,
   "metadata": {},
   "outputs": [],
   "source": [
    "for pair in zip(with_all, with_errors):\n",
    "    if len(editops(pair[0],pair[1]))==1 or len(editops(pair[0],pair[1]))==0:\n",
    "        if len(editops(pair[0],pair[1]))==1:\n",
    "            editop, idxw, idxx = editops(pair[0],pair[1])[0]\n",
    "            if editop == 'replace':\n",
    "                correct_char=pair[0][idxw]\n",
    "                error_char=pair[1][idxx]\n",
    "                ew=pair[1][idxx]+'|'+pair[0][idxw]\n",
    "            elif editop == 'insert':\n",
    "                correct_char = '-'\n",
    "                error_char = pair[1][idxx]\n",
    "                ew=pair[1][idxx-1:idxx+1]+'|'+pair[0][idxw-1]\n",
    "            elif editop == 'delete':\n",
    "                correct_char = pair[0][idxw]\n",
    "                error_char = '-'\n",
    "                if idxx!=0:\n",
    "                    ew=pair[1][idxx-1]+'|'+pair[0][idxw-1:idxw+1]\n",
    "                else:\n",
    "                    ew=pair[1][idxx]+'|'+pair[0][idxw:idxw+2]\n",
    "            df_temp = pd.DataFrame([[pair[0],\n",
    "                                  pair[1],\n",
    "                                  editop,\n",
    "                                  correct_char,\n",
    "                                 idxw,\n",
    "                                 error_char,\n",
    "                                 idxx,\n",
    "                                 ew]],columns=['correction',\n",
    "                                               'error', \n",
    "                                               'editop', \n",
    "                                                             'correct_char',\n",
    "                                                           'idxw',\n",
    "                                                             'error_char',\n",
    "                                                           'idxe',\n",
    "                                                             'e|w'])\n",
    "\n",
    "        elif len(editops(pair[0],pair[1]))==0:\n",
    "            editop, idxw, idxx = ('equal', 0, 0)\n",
    "            correct_char = '-'\n",
    "            error_char = '-'\n",
    "            ew='|'\n",
    "            df_temp = pd.DataFrame([[pair[0],\n",
    "                                      pair[1],\n",
    "                                      editop,\n",
    "                                      correct_char,\n",
    "                                     idxw,\n",
    "                                     error_char,\n",
    "                                     idxx,\n",
    "                                     ew]],columns=['correction',\n",
    "                                                   'error', \n",
    "                                                   'editop', \n",
    "                                                   'correct_char',\n",
    "                                                   'idxw',\n",
    "                                                   'error_char',\n",
    "                                                               'idxe',\n",
    "                                                                 'e|w'])\n",
    "        if not len(error_df):\n",
    "            error_df=df_temp\n",
    "        else:\n",
    "            error_df=pd.concat([error_df,df_temp],axis=0,ignore_index=True)\n",
    "    else:\n",
    "        pass"
   ]
  },
  {
   "cell_type": "code",
   "execution_count": 131,
   "metadata": {},
   "outputs": [
    {
     "data": {
      "text/html": [
       "<div>\n",
       "<style scoped>\n",
       "    .dataframe tbody tr th:only-of-type {\n",
       "        vertical-align: middle;\n",
       "    }\n",
       "\n",
       "    .dataframe tbody tr th {\n",
       "        vertical-align: top;\n",
       "    }\n",
       "\n",
       "    .dataframe thead th {\n",
       "        text-align: right;\n",
       "    }\n",
       "</style>\n",
       "<table border=\"1\" class=\"dataframe\">\n",
       "  <thead>\n",
       "    <tr style=\"text-align: right;\">\n",
       "      <th></th>\n",
       "      <th>correction</th>\n",
       "      <th>error</th>\n",
       "      <th>editop</th>\n",
       "      <th>correct_char</th>\n",
       "      <th>idxw</th>\n",
       "      <th>error_char</th>\n",
       "      <th>idxe</th>\n",
       "      <th>e|w</th>\n",
       "    </tr>\n",
       "  </thead>\n",
       "  <tbody>\n",
       "    <tr>\n",
       "      <th>0</th>\n",
       "      <td>НАРОДНОЕ</td>\n",
       "      <td>АРОДНОЕ</td>\n",
       "      <td>delete</td>\n",
       "      <td>Н</td>\n",
       "      <td>0</td>\n",
       "      <td>-</td>\n",
       "      <td>0</td>\n",
       "      <td>А|НА</td>\n",
       "    </tr>\n",
       "    <tr>\n",
       "      <th>1</th>\n",
       "      <td>Августа</td>\n",
       "      <td>Авгуота</td>\n",
       "      <td>replace</td>\n",
       "      <td>с</td>\n",
       "      <td>4</td>\n",
       "      <td>о</td>\n",
       "      <td>4</td>\n",
       "      <td>о|с</td>\n",
       "    </tr>\n",
       "    <tr>\n",
       "      <th>2</th>\n",
       "      <td>Августъ</td>\n",
       "      <td>Августь</td>\n",
       "      <td>replace</td>\n",
       "      <td>ъ</td>\n",
       "      <td>6</td>\n",
       "      <td>ь</td>\n",
       "      <td>6</td>\n",
       "      <td>ь|ъ</td>\n",
       "    </tr>\n",
       "    <tr>\n",
       "      <th>3</th>\n",
       "      <td>Агаѳангела</td>\n",
       "      <td>Агаоангела</td>\n",
       "      <td>replace</td>\n",
       "      <td>ѳ</td>\n",
       "      <td>3</td>\n",
       "      <td>о</td>\n",
       "      <td>3</td>\n",
       "      <td>о|ѳ</td>\n",
       "    </tr>\n",
       "    <tr>\n",
       "      <th>4</th>\n",
       "      <td>Аѳанасьевской</td>\n",
       "      <td>Аеанасьевской</td>\n",
       "      <td>replace</td>\n",
       "      <td>ѳ</td>\n",
       "      <td>1</td>\n",
       "      <td>е</td>\n",
       "      <td>1</td>\n",
       "      <td>е|ѳ</td>\n",
       "    </tr>\n",
       "    <tr>\n",
       "      <th>5</th>\n",
       "      <td>Акcаковъ</td>\n",
       "      <td>Акеаковъ</td>\n",
       "      <td>replace</td>\n",
       "      <td>c</td>\n",
       "      <td>2</td>\n",
       "      <td>е</td>\n",
       "      <td>2</td>\n",
       "      <td>е|c</td>\n",
       "    </tr>\n",
       "    <tr>\n",
       "      <th>6</th>\n",
       "      <td>Алекcея</td>\n",
       "      <td>Алекеея</td>\n",
       "      <td>replace</td>\n",
       "      <td>c</td>\n",
       "      <td>4</td>\n",
       "      <td>е</td>\n",
       "      <td>4</td>\n",
       "      <td>е|c</td>\n",
       "    </tr>\n",
       "    <tr>\n",
       "      <th>7</th>\n",
       "      <td>Алексѣй</td>\n",
       "      <td>АлексЪй</td>\n",
       "      <td>replace</td>\n",
       "      <td>ѣ</td>\n",
       "      <td>5</td>\n",
       "      <td>Ъ</td>\n",
       "      <td>5</td>\n",
       "      <td>Ъ|ѣ</td>\n",
       "    </tr>\n",
       "    <tr>\n",
       "      <th>8</th>\n",
       "      <td>Александринскаго</td>\n",
       "      <td>Александрннскаго</td>\n",
       "      <td>replace</td>\n",
       "      <td>и</td>\n",
       "      <td>9</td>\n",
       "      <td>н</td>\n",
       "      <td>9</td>\n",
       "      <td>н|и</td>\n",
       "    </tr>\n",
       "    <tr>\n",
       "      <th>9</th>\n",
       "      <td>Александровича</td>\n",
       "      <td>Александровича2</td>\n",
       "      <td>insert</td>\n",
       "      <td>-</td>\n",
       "      <td>14</td>\n",
       "      <td>2</td>\n",
       "      <td>14</td>\n",
       "      <td>а2|а</td>\n",
       "    </tr>\n",
       "    <tr>\n",
       "      <th>10</th>\n",
       "      <td>Алексѣя</td>\n",
       "      <td>Алексая</td>\n",
       "      <td>replace</td>\n",
       "      <td>ѣ</td>\n",
       "      <td>5</td>\n",
       "      <td>а</td>\n",
       "      <td>5</td>\n",
       "      <td>а|ѣ</td>\n",
       "    </tr>\n",
       "    <tr>\n",
       "      <th>11</th>\n",
       "      <td>Амфилохія</td>\n",
       "      <td>Амфилохгя</td>\n",
       "      <td>replace</td>\n",
       "      <td>і</td>\n",
       "      <td>7</td>\n",
       "      <td>г</td>\n",
       "      <td>7</td>\n",
       "      <td>г|і</td>\n",
       "    </tr>\n",
       "    <tr>\n",
       "      <th>12</th>\n",
       "      <td>Анатоліе</td>\n",
       "      <td>Анатолге</td>\n",
       "      <td>replace</td>\n",
       "      <td>і</td>\n",
       "      <td>6</td>\n",
       "      <td>г</td>\n",
       "      <td>6</td>\n",
       "      <td>г|і</td>\n",
       "    </tr>\n",
       "    <tr>\n",
       "      <th>13</th>\n",
       "      <td>Андреевичъ</td>\n",
       "      <td>Андреевпчъ</td>\n",
       "      <td>replace</td>\n",
       "      <td>и</td>\n",
       "      <td>7</td>\n",
       "      <td>п</td>\n",
       "      <td>7</td>\n",
       "      <td>п|и</td>\n",
       "    </tr>\n",
       "    <tr>\n",
       "      <th>14</th>\n",
       "      <td>Апостолы</td>\n",
       "      <td>Аностолы</td>\n",
       "      <td>replace</td>\n",
       "      <td>п</td>\n",
       "      <td>1</td>\n",
       "      <td>н</td>\n",
       "      <td>1</td>\n",
       "      <td>н|п</td>\n",
       "    </tr>\n",
       "    <tr>\n",
       "      <th>15</th>\n",
       "      <td>Архіерейскаго</td>\n",
       "      <td>Архгерейскаго</td>\n",
       "      <td>replace</td>\n",
       "      <td>і</td>\n",
       "      <td>3</td>\n",
       "      <td>г</td>\n",
       "      <td>3</td>\n",
       "      <td>г|і</td>\n",
       "    </tr>\n",
       "    <tr>\n",
       "      <th>16</th>\n",
       "      <td>Архимандритовъ</td>\n",
       "      <td>АрхимандритовЪ</td>\n",
       "      <td>replace</td>\n",
       "      <td>ъ</td>\n",
       "      <td>13</td>\n",
       "      <td>Ъ</td>\n",
       "      <td>13</td>\n",
       "      <td>Ъ|ъ</td>\n",
       "    </tr>\n",
       "    <tr>\n",
       "      <th>17</th>\n",
       "      <td>ЯЗЫК</td>\n",
       "      <td>Я8ЫК</td>\n",
       "      <td>replace</td>\n",
       "      <td>З</td>\n",
       "      <td>1</td>\n",
       "      <td>8</td>\n",
       "      <td>1</td>\n",
       "      <td>8|З</td>\n",
       "    </tr>\n",
       "    <tr>\n",
       "      <th>18</th>\n",
       "      <td>Японскіе</td>\n",
       "      <td>Японск1е</td>\n",
       "      <td>replace</td>\n",
       "      <td>і</td>\n",
       "      <td>6</td>\n",
       "      <td>1</td>\n",
       "      <td>6</td>\n",
       "      <td>1|і</td>\n",
       "    </tr>\n",
       "    <tr>\n",
       "      <th>19</th>\n",
       "      <td>занимает</td>\n",
       "      <td>аанимает</td>\n",
       "      <td>replace</td>\n",
       "      <td>з</td>\n",
       "      <td>0</td>\n",
       "      <td>а</td>\n",
       "      <td>0</td>\n",
       "      <td>а|з</td>\n",
       "    </tr>\n",
       "  </tbody>\n",
       "</table>\n",
       "</div>"
      ],
      "text/plain": [
       "          correction             error   editop correct_char  idxw error_char  \\\n",
       "0           НАРОДНОЕ           АРОДНОЕ   delete            Н     0          -   \n",
       "1            Августа           Авгуота  replace            с     4          о   \n",
       "2            Августъ           Августь  replace            ъ     6          ь   \n",
       "3         Агаѳангела        Агаоангела  replace            ѳ     3          о   \n",
       "4      Аѳанасьевской     Аеанасьевской  replace            ѳ     1          е   \n",
       "5           Акcаковъ          Акеаковъ  replace            c     2          е   \n",
       "6            Алекcея           Алекеея  replace            c     4          е   \n",
       "7            Алексѣй           АлексЪй  replace            ѣ     5          Ъ   \n",
       "8   Александринскаго  Александрннскаго  replace            и     9          н   \n",
       "9     Александровича   Александровича2   insert            -    14          2   \n",
       "10           Алексѣя           Алексая  replace            ѣ     5          а   \n",
       "11         Амфилохія         Амфилохгя  replace            і     7          г   \n",
       "12          Анатоліе          Анатолге  replace            і     6          г   \n",
       "13        Андреевичъ        Андреевпчъ  replace            и     7          п   \n",
       "14          Апостолы          Аностолы  replace            п     1          н   \n",
       "15     Архіерейскаго     Архгерейскаго  replace            і     3          г   \n",
       "16    Архимандритовъ    АрхимандритовЪ  replace            ъ    13          Ъ   \n",
       "17              ЯЗЫК              Я8ЫК  replace            З     1          8   \n",
       "18          Японскіе          Японск1е  replace            і     6          1   \n",
       "19          занимает          аанимает  replace            з     0          а   \n",
       "\n",
       "    idxe   e|w  \n",
       "0      0  А|НА  \n",
       "1      4   о|с  \n",
       "2      6   ь|ъ  \n",
       "3      3   о|ѳ  \n",
       "4      1   е|ѳ  \n",
       "5      2   е|c  \n",
       "6      4   е|c  \n",
       "7      5   Ъ|ѣ  \n",
       "8      9   н|и  \n",
       "9     14  а2|а  \n",
       "10     5   а|ѣ  \n",
       "11     7   г|і  \n",
       "12     6   г|і  \n",
       "13     7   п|и  \n",
       "14     1   н|п  \n",
       "15     3   г|і  \n",
       "16    13   Ъ|ъ  \n",
       "17     1   8|З  \n",
       "18     6   1|і  \n",
       "19     0   а|з  "
      ]
     },
     "execution_count": 131,
     "metadata": {},
     "output_type": "execute_result"
    }
   ],
   "source": [
    "error_df[:20]"
   ]
  },
  {
   "cell_type": "markdown",
   "metadata": {},
   "source": [
    "<img src=\"pics/Снимок.PNG\",width=600, height=300>\n",
    "see https://web.stanford.edu/~jurafsky/slp3/B.pdf"
   ]
  },
  {
   "cell_type": "code",
   "execution_count": 134,
   "metadata": {},
   "outputs": [],
   "source": [
    "sub_df = pd.concat([error_df[error_df['editop']=='replace'], error_df[error_df['editop']=='equal']], axis=0, ignore_index=True)\n",
    "del_df = pd.concat([error_df[error_df['editop']=='delete'], error_df[error_df['editop']=='equal']], axis=0, ignore_index=True)\n",
    "ins_df = pd.concat([error_df[error_df['editop']=='insert'], error_df[error_df['editop']=='equal']], axis=0, ignore_index=True)"
   ]
  },
  {
   "cell_type": "code",
   "execution_count": 135,
   "metadata": {},
   "outputs": [],
   "source": [
    "correct_tokens = [list(word[:int(error_df.idxw.iloc[[i]])])+[error_df['e|w'].iloc[[i]][i][error_df['e|w'].iloc[[i]][i].find('|')+1:]]+list(word[int(error_df.idxw.iloc[[i]])+len(error_df['e|w'].iloc[[i]][i][error_df['e|w'].iloc[[i]][i].find('|')+1:]):]) for i, word in enumerate(error_df['correction'].astype(str).tolist())]\n",
    "correct_subs = [list(word[:int(sub_df.idxw.iloc[[i]])])+[sub_df['e|w'].iloc[[i]][i][sub_df['e|w'].iloc[[i]][i].find('|')+1:]]+list(word[int(sub_df.idxw.iloc[[i]])+len(sub_df['e|w'].iloc[[i]][i][sub_df['e|w'].iloc[[i]][i].find('|')+1:]):]) for i, word in enumerate(sub_df['correction'].astype(str).tolist())]\n",
    "correct_dels = [list(word[:int(del_df.idxw.iloc[[i]])])+[del_df['e|w'].iloc[[i]][i][del_df['e|w'].iloc[[i]][i].find('|')+1:]]+list(word[int(del_df.idxw.iloc[[i]])+len(del_df['e|w'].iloc[[i]][i][del_df['e|w'].iloc[[i]][i].find('|')+1:]):]) for i, word in enumerate(del_df['correction'].astype(str).tolist())]\n",
    "correct_ins = [list(word[:int(ins_df.idxw.iloc[[i]])])+[ins_df['e|w'].iloc[[i]][i][ins_df['e|w'].iloc[[i]][i].find('|')+1:]]+list(word[int(ins_df.idxw.iloc[[i]])+len(ins_df['e|w'].iloc[[i]][i][ins_df['e|w'].iloc[[i]][i].find('|')+1:]):]) for i, word in enumerate(ins_df['correction'].astype(str).tolist())]"
   ]
  },
  {
   "cell_type": "code",
   "execution_count": 136,
   "metadata": {},
   "outputs": [],
   "source": [
    "correct_tokens = [[char for char in word if char] for word in correct_tokens]\n",
    "correct_subs = [[char for char in word if char] for word in correct_subs]\n",
    "correct_dels = [[char for char in word if char] for word in correct_dels]\n",
    "correct_ins = [[char for char in word if char] for word in correct_ins]"
   ]
  },
  {
   "cell_type": "code",
   "execution_count": 140,
   "metadata": {},
   "outputs": [
    {
     "data": {
      "text/plain": [
       "[['А', 'в', 'г', 'у', 'с', 'т', 'а'],\n",
       " ['А', 'в', 'г', 'у', 'с', 'т', 'ъ'],\n",
       " ['А', 'г', 'а', 'ѳ', 'а', 'н', 'г', 'е', 'л', 'а'],\n",
       " ['А', 'ѳ', 'а', 'н', 'а', 'с', 'ь', 'е', 'в', 'с', 'к', 'о', 'й'],\n",
       " ['А', 'к', 'c', 'а', 'к', 'о', 'в', 'ъ']]"
      ]
     },
     "execution_count": 140,
     "metadata": {},
     "output_type": "execute_result"
    }
   ],
   "source": [
    "correct_subs[:5]"
   ]
  },
  {
   "cell_type": "code",
   "execution_count": 141,
   "metadata": {},
   "outputs": [],
   "source": [
    "correct_elements = [el for token in correct_tokens for el in token]\n",
    "correct_subs_elements = [el for token in correct_subs for el in token]\n",
    "correct_dels_elements = [el for token in correct_dels for el in token]\n",
    "correct_ins_elements  = [el for token in correct_ins for el in token]"
   ]
  },
  {
   "cell_type": "code",
   "execution_count": 142,
   "metadata": {},
   "outputs": [],
   "source": [
    "error_tokens = [list(word[:int(error_df.idxe.iloc[[i]])])+[error_df['e|w'].iloc[[i]][i][:error_df['e|w'].iloc[[i]][i].find('|')]]+list(word[int(error_df.idxe.iloc[[i]])+len(error_df['e|w'].iloc[[i]][i][:error_df['e|w'].iloc[[i]][i].find('|')]):]) for i, word in enumerate(error_df['error'].astype(str).tolist())]\n",
    "error_subs = [list(word[:int(sub_df.idxe.iloc[[i]])])+[sub_df['e|w'].iloc[[i]][i][:sub_df['e|w'].iloc[[i]][i].find('|')]]+list(word[int(sub_df.idxe.iloc[[i]])+len(sub_df['e|w'].iloc[[i]][i][:sub_df['e|w'].iloc[[i]][i].find('|')]):]) for i, word in enumerate(sub_df['error'].astype(str).tolist())]\n",
    "error_dels = [list(word[:int(del_df.idxe.iloc[[i]])])+[del_df['e|w'].iloc[[i]][i][:del_df['e|w'].iloc[[i]][i].find('|')]]+list(word[int(del_df.idxe.iloc[[i]])+len(del_df['e|w'].iloc[[i]][i][:del_df['e|w'].iloc[[i]][i].find('|')]):]) for i, word in enumerate(del_df['error'].astype(str).tolist())]\n",
    "error_ins = [list(word[:int(ins_df.idxe.iloc[[i]])])+[ins_df['e|w'].iloc[[i]][i][:ins_df['e|w'].iloc[[i]][i].find('|')]]+list(word[int(ins_df.idxe.iloc[[i]])+len(ins_df['e|w'].iloc[[i]][i][:ins_df['e|w'].iloc[[i]][i].find('|')]):]) for i, word in enumerate(ins_df['error'].astype(str).tolist())]"
   ]
  },
  {
   "cell_type": "code",
   "execution_count": 143,
   "metadata": {},
   "outputs": [],
   "source": [
    "error_tokens = [[char for char in word if char] for word in error_tokens]\n",
    "error_subs = [[char for char in word if char] for word in error_subs]\n",
    "error_dels = [[char for char in word if char] for word in error_dels]\n",
    "error_ins = [[char for char in word if char] for word in error_ins]"
   ]
  },
  {
   "cell_type": "code",
   "execution_count": 144,
   "metadata": {},
   "outputs": [
    {
     "data": {
      "text/plain": [
       "[['А', 'л', 'е', 'к', 'с', 'а', 'н', 'д', 'р', 'о', 'в', 'и', 'ч', 'а', 'а2'],\n",
       " ['а', 'р', 'м', 'и', 'е', 'й', 'й3'],\n",
       " ['А', 'в', 'с', 'т', 'р', 'а', 'л', 'и', 'и', 'и1'],\n",
       " ['А', 'в', 'с', 'т', 'р', 'и', 'и', 'и1'],\n",
       " ['а', 'н', 'г', 'е', 'л', 'с', 'к', 'о', 'г', 'о']]"
      ]
     },
     "execution_count": 144,
     "metadata": {},
     "output_type": "execute_result"
    }
   ],
   "source": [
    "error_ins[:5]"
   ]
  },
  {
   "cell_type": "code",
   "execution_count": 145,
   "metadata": {},
   "outputs": [],
   "source": [
    "error_elements = [el for token in error_tokens for el in token]\n",
    "error_subs_elements = [el for token in error_subs for el in token]\n",
    "error_dels_elements = [el for token in error_dels for el in token]\n",
    "error_ins_elements  = [el for token in error_ins for el in token]"
   ]
  },
  {
   "cell_type": "markdown",
   "metadata": {},
   "source": [
    "#### Confusion matrix для замен"
   ]
  },
  {
   "cell_type": "code",
   "execution_count": 166,
   "metadata": {},
   "outputs": [
    {
     "data": {
      "image/png": "[encoded data removed]",
      "text/plain": [
       "<Figure size 1800x1080 with 1 Axes>"
      ]
     },
     "metadata": {},
     "output_type": "display_data"
    }
   ],
   "source": [
    "# alphabeth = 'í́абвгдеёжзийклмнопрстуфхцчшщъыьэюяіѣѳѵ0123456789'\n",
    "import matplotlib.pyplot as plt\n",
    "import seaborn as sns\n",
    "from sklearn.metrics import *\n",
    "from sklearn.feature_extraction.text import *\n",
    "sub_labels = sorted(list(set(correct_subs_elements+error_subs_elements)))\n",
    "plt.figure(figsize=(25,15))\n",
    "sns.heatmap(data=confusion_matrix(correct_subs_elements, error_subs_elements),annot=True,fmt='d', cbar=False, xticklabels=sub_labels,yticklabels=sub_labels, cmap='PuBuGn')#,fmt='d', annot=True,)\n",
    "plt.title(\"Confusion matrix\")\n",
    "plt.show()"
   ]
  },
  {
   "cell_type": "code",
   "execution_count": 165,
   "metadata": {},
   "outputs": [
    {
     "data": {
      "text/plain": [
       "array([  0,   0,   0,   0,   0,   0,   0,   0,   0,   0,   0,   0,   0,\n",
       "         0,   0, 124,   0,   0,   0,   0,   0,   0,   4,   0,   0,   0,\n",
       "         0,   0,   2,   0,   2,   0,   1,   0,   0,   0,   0,   0,   0,\n",
       "         0,   0,   0,   0,   0,   0,   0,   0,   1,   0])"
      ]
     },
     "execution_count": 165,
     "metadata": {},
     "output_type": "execute_result"
    }
   ],
   "source": [
    "confusion_matrix(correct_subs_elements, error_subs_elements)[:,15]"
   ]
  },
  {
   "cell_type": "markdown",
   "metadata": {},
   "source": [
    "#### Для удалений"
   ]
  },
  {
   "cell_type": "code",
   "execution_count": 156,
   "metadata": {},
   "outputs": [
    {
     "name": "stdout",
     "output_type": "stream",
     "text": [
      "['.', 'А', 'Б', 'Г', 'Д', 'Е', 'Н', 'НА', 'О', 'П', 'Р', 'а', 'б', 'в', 'г', 'д', 'е', 'ж', 'з', 'и', 'й', 'к', 'ка', 'л', 'м', 'н', 'о', 'оп', 'п', 'р', 'с', 'ст', 'т', 'у', 'ф', 'х', 'ц', 'ч', 'ш', 'ъ', 'ы', 'ь', 'ю', 'я']\n"
     ]
    },
    {
     "data": {
      "image/png": "[encoded data removed]",
      "text/plain": [
       "<Figure size 1800x1080 with 1 Axes>"
      ]
     },
     "metadata": {},
     "output_type": "display_data"
    }
   ],
   "source": [
    "labels = sorted(list(set(correct_dels_elements+error_dels_elements)))\n",
    "print(labels)\n",
    "plt.figure(figsize=(25,15))\n",
    "sns.heatmap(data=confusion_matrix(correct_dels_elements, error_dels_elements),annot=True,fmt='d', cbar=False, xticklabels=labels,yticklabels=labels, cmap='PuBuGn')#,fmt='d', annot=True,)\n",
    "plt.title(\"Confusion matrix\")\n",
    "plt.show()"
   ]
  },
  {
   "cell_type": "markdown",
   "metadata": {},
   "source": [
    "#### Для вставок"
   ]
  },
  {
   "cell_type": "code",
   "execution_count": 157,
   "metadata": {},
   "outputs": [
    {
     "name": "stdout",
     "output_type": "stream",
     "text": [
      "['.', 'А', 'Б', 'Г', 'Н', 'П', 'а', 'а2', 'б', 'в', 'г', 'д', 'е', 'ж', 'з', 'и', 'и1', 'й', 'й3', 'к', 'л', 'м', 'н', 'о', 'п', 'р', 'с', 'т', 'у', 'ф', 'х', 'ц', 'ч', 'ш', 'ъ', 'ы', 'ь', 'ю', 'я']\n"
     ]
    },
    {
     "data": {
      "image/png": "[encoded data removed]",
      "text/plain": [
       "<Figure size 1800x1080 with 1 Axes>"
      ]
     },
     "metadata": {},
     "output_type": "display_data"
    }
   ],
   "source": [
    "import matplotlib.pyplot as plt\n",
    "import seaborn as sns\n",
    "from sklearn.metrics import *\n",
    "from sklearn.feature_extraction.text import *\n",
    "labels = sorted(list(set(correct_ins_elements+error_ins_elements)))\n",
    "print(labels)\n",
    "plt.figure(figsize=(25,15))\n",
    "sns.heatmap(data=confusion_matrix(correct_ins_elements, error_ins_elements),annot=True,fmt='d', cbar=False, xticklabels=labels,yticklabels=labels, cmap='PuBuGn')#,fmt='d', annot=True,)\n",
    "plt.title(\"Confusion matrix\")\n",
    "plt.show()"
   ]
  },
  {
   "cell_type": "code",
   "execution_count": 126,
   "metadata": {},
   "outputs": [],
   "source": [
    "sub_counts=Counter(error_df[error_df.editop=='replace']['e|w'].astype(str).tolist())\n",
    "ins_counts=Counter(error_df[error_df.editop=='insert']['e|w'].astype(str).tolist())\n",
    "del_counts=Counter(error_df[error_df.editop=='delete']['e|w'].astype(str).tolist())\n",
    "char_counts=Counter([char if char!='-' else error_df['e|w'][i][-1] for i, char in enumerate(error_df.correct_char.astype(str).tolist())])"
   ]
  },
  {
   "cell_type": "code",
   "execution_count": 168,
   "metadata": {},
   "outputs": [],
   "source": [
    "def P_ew(editop, ew):\n",
    "    if editop=='replace':\n",
    "        return check_cfsn_mtrx(sub_labels,confusion_matrix(correct_subs_elements, error_subs_elements),ew)\n",
    "#     elif editop=='insert':\n",
    "#         return ins_counts[ew]/char_counts[ew[-1]]\n",
    "    else:\n",
    "        return 0.0001 # костыль (нужно сглаживание)"
   ]
  },
  {
   "cell_type": "code",
   "execution_count": 173,
   "metadata": {},
   "outputs": [],
   "source": [
    "def check_cfsn_mtrx(labels,cm,ew):\n",
    "    cond_idx = ew.find('|')\n",
    "    e_idx = labels.index(ew[:cond_idx])\n",
    "    w_idx= labels.index(ew[cond_idx+1:])\n",
    "    return(cm[w_idx, e_idx]/sum(cm[:, e_idx]))\n",
    "#     confusion_matrix(correct_subs_elements, error_subs_elements)"
   ]
  },
  {
   "cell_type": "code",
   "execution_count": 174,
   "metadata": {},
   "outputs": [
    {
     "data": {
      "text/plain": [
       "0.06666666666666667"
      ]
     },
     "execution_count": 174,
     "metadata": {},
     "output_type": "execute_result"
    }
   ],
   "source": [
    "P_ew('replace', 'ь|ъ')"
   ]
  }
 ],
 "metadata": {
  "kernelspec": {
   "display_name": "Python 3",
   "language": "python",
   "name": "python3"
  },
  "language_info": {
   "codemirror_mode": {
    "name": "ipython",
    "version": 3
   },
   "file_extension": ".py",
   "mimetype": "text/x-python",
   "name": "python",
   "nbconvert_exporter": "python",
   "pygments_lexer": "ipython3",
   "version": "3.6.7"
  }
 },
 "nbformat": 4,
 "nbformat_minor": 2
}
