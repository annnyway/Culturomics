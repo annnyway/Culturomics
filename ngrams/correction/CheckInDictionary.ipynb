{
 "cells": [
  {
   "cell_type": "code",
   "execution_count": 4,
   "metadata": {},
   "outputs": [],
   "source": [
    "%run PrefixTrie.ipynb"
   ]
  },
  {
   "cell_type": "code",
   "execution_count": 3,
   "metadata": {},
   "outputs": [],
   "source": [
    "vocabulary = open('vocabulary.txt', 'r').read() # pre-reform word forms\n",
    "russian_dic= open('russian.dic', 'r').read() #normal word forms"
   ]
  },
  {
   "cell_type": "code",
   "execution_count": 5,
   "metadata": {},
   "outputs": [],
   "source": [
    "if __name__ == \"__main__\":\n",
    "\n",
    "    root = TrieNode('*')\n",
    "    for line in vocabulary+russian_dic.split(\"\\n\"):\n",
    "        add(root, line)"
   ]
  },
  {
   "cell_type": "code",
   "execution_count": 7,
   "metadata": {},
   "outputs": [
    {
     "name": "stdout",
     "output_type": "stream",
     "text": [
      "(True, 1)\n"
     ]
    }
   ],
   "source": [
    "print(find_prefix(root, 'академиков'))"
   ]
  },
  {
   "cell_type": "code",
   "execution_count": null,
   "metadata": {},
   "outputs": [],
   "source": [
    "def getNgrams(index):\n",
    "    df = pd.read_csv(index + \".csv\")\n",
    "    df.columns = ['raw_ngram', 'year', 'match_count', 'volume_count', 'idx', 'n_gram',\n",
    "       'new_idx', 'is_bastard', 'new_ngram']\n",
    "    return df\n",
    "\n",
    "def normalize(ngram):\n",
    "    if '_' in ngram:\n",
    "        index = ngram.find('_')\n",
    "        ngram = ngram[: index]\n",
    "#   if not re.sub(\"[.,:\\'-]\", '', ngram).isdigit():\n",
    "#     ngram = re.sub(\"0\", 'О', ngram)\n",
    "#     ngram = re.sub(\"1\", 'i', ngram)\n",
    "    return(ngram)\n",
    "\n",
    "\n",
    "# Не меняем все нерусские и находящиеся в словаре слова\n",
    "def to_check(string):\n",
    "    s = re.sub(\"[\"+punctuation+\"]\", '', string)\n",
    "    charRe = re.compile(r'[^0-9а-яА-ЯiіІIѣ]')\n",
    "#     charRe = re.compile(r'(^iI)|([a-zA-Z])')\n",
    "    st = charRe.search(s)\n",
    "    if bool(st):\n",
    "        if bool(re.compile(r'[^0-9а-яА-ЯiіІIѣѵ]').search(s.replace(st.group(),''))):\n",
    "            return string\n",
    "    else:\n",
    "        if find_prefix(root, s.lower())[0]:\n",
    "            return (string)\n",
    "        else:\n",
    "            return ''"
   ]
  },
  {
   "cell_type": "code",
   "execution_count": null,
   "metadata": {},
   "outputs": [],
   "source": [
    "a = getNgrams('a')"
   ]
  },
  {
   "cell_type": "code",
   "execution_count": null,
   "metadata": {},
   "outputs": [],
   "source": [
    "a['new_ngram'] = a.n_gram.apply(to_check)"
   ]
  },
  {
   "cell_type": "code",
   "execution_count": null,
   "metadata": {},
   "outputs": [],
   "source": [
    "len(a)"
   ]
  },
  {
   "cell_type": "code",
   "execution_count": null,
   "metadata": {},
   "outputs": [],
   "source": [
    "len(a[(a.new_ngram == '')])"
   ]
  },
  {
   "cell_type": "code",
   "execution_count": null,
   "metadata": {},
   "outputs": [],
   "source": [
    "a[(a.new_ngram == '')].to_csv('a_ToCheck.csv', sep=';', index=False, encoding='utf-8-sig')"
   ]
  }
 ],
 "metadata": {
  "kernelspec": {
   "display_name": "Python 3",
   "language": "python",
   "name": "python3"
  },
  "language_info": {
   "codemirror_mode": {
    "name": "ipython",
    "version": 3
   },
   "file_extension": ".py",
   "mimetype": "text/x-python",
   "name": "python",
   "nbconvert_exporter": "python",
   "pygments_lexer": "ipython3",
   "version": "3.6.7"
  }
 },
 "nbformat": 4,
 "nbformat_minor": 2
}
