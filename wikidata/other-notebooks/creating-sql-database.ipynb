{
 "cells": [
  {
   "cell_type": "markdown",
   "metadata": {},
   "source": [
    "# Create database for unigrams (later for bigrams)"
   ]
  },
  {
   "cell_type": "code",
   "execution_count": 45,
   "metadata": {},
   "outputs": [],
   "source": [
    "import pandas as pd\n",
    "import sqlite3\n",
    "import os"
   ]
  },
  {
   "cell_type": "code",
   "execution_count": 54,
   "metadata": {},
   "outputs": [],
   "source": [
    "os.chdir(\"/Users/nikolaevaanna/Downloads/unigram_result_dates\")\n",
    "paths = [i for i in os.listdir(\".\") if not i.endswith(\".db\")]"
   ]
  },
  {
   "cell_type": "code",
   "execution_count": 55,
   "metadata": {},
   "outputs": [
    {
     "data": {
      "text/plain": [
       "['unigram-result-dates_j.tsv',\n",
       " 'unigram-result-dates_k.tsv',\n",
       " 'unigram-result-dates_i.tsv',\n",
       " 'unigram-result-dates_h.tsv',\n",
       " 'unigram-result-dates_l.tsv',\n",
       " 'unigram-result-dates_m.tsv',\n",
       " 'unigram-result-dates_z.tsv',\n",
       " 'unigram-result-dates_x.tsv',\n",
       " 'unigram-result-dates_o.tsv',\n",
       " 'unigram-result-dates_n.tsv',\n",
       " 'unigram-result-dates_t.tsv',\n",
       " 'unigram-result-dates_c.tsv',\n",
       " 'unigram-result-dates_b.tsv',\n",
       " 'unigram-result-dates_u.tsv',\n",
       " 'unigram-result-dates_a.tsv',\n",
       " 'unigram-result-dates_v.tsv',\n",
       " 'unigram-result-dates_e.tsv',\n",
       " 'unigram-result-dates_r.tsv',\n",
       " 'unigram-result-dates_s.tsv',\n",
       " 'unigram-result-dates_d.tsv',\n",
       " 'unigram-result-dates_f.tsv',\n",
       " 'unigram-result-dates_p.tsv',\n",
       " 'unigram-result-dates_g.tsv']"
      ]
     },
     "execution_count": 55,
     "metadata": {},
     "output_type": "execute_result"
    }
   ],
   "source": [
    "paths"
   ]
  },
  {
   "cell_type": "code",
   "execution_count": 49,
   "metadata": {},
   "outputs": [],
   "source": [
    "conn = sqlite3.connect(\"wikidata.db\")\n",
    "cursor = conn.cursor()"
   ]
  },
  {
   "cell_type": "code",
   "execution_count": null,
   "metadata": {},
   "outputs": [],
   "source": [
    "cursor.execute(\"\"\"CREATE TABLE ngrams\n",
    "                  (ngram text, \n",
    "                  start_letter text,\n",
    "                  Q_number text, \n",
    "                  wiki_entity text, \n",
    "                  property_code text,\n",
    "                  property_value text,\n",
    "                  object text,\n",
    "                  organization text,\n",
    "                  just_date text,\n",
    "                  start_time text,\n",
    "                  end_time text,\n",
    "                  time_point text,\n",
    "                  growth_speed real,\n",
    "                  google_year_1 integer,\n",
    "                  google_year_2 integer)\n",
    "               \"\"\")"
   ]
  },
  {
   "cell_type": "code",
   "execution_count": null,
   "metadata": {},
   "outputs": [],
   "source": [
    "conn.commit()"
   ]
  },
  {
   "cell_type": "code",
   "execution_count": 56,
   "metadata": {},
   "outputs": [],
   "source": [
    "def update_wikidata_database(path):\n",
    "    \n",
    "    dataframe = pd.read_csv(path, sep=\"\\t\") \n",
    "    \n",
    "    for i in dataframe.index:\n",
    "        years = dataframe.loc[i, \"Year or Period\"]\n",
    "        if years.count(\",\") == 1:\n",
    "            years = years.strip(\"[]\").split(\", \")\n",
    "            dataframe.loc[i, \"year1\"] = int(years[0])\n",
    "            dataframe.loc[i, \"year2\"] = int(years[1])\n",
    "        else:\n",
    "            dataframe.loc[i, \"year1\"] = int(years)\n",
    "            \n",
    "    start_letters = [i[0] for i in dataframe.iloc[:, 1]]\n",
    "    dataframe.insert(2, 'start_letter', start_letters)\n",
    "    \n",
    "    df_list = dataframe.values.tolist()\n",
    "    new_df_list = []\n",
    "    for line in df_list:\n",
    "        new_line = tuple(line[1:])\n",
    "        new_df_list.append(new_line)\n",
    "        \n",
    "    cursor.executemany(\"INSERT INTO ngrams VALUES (?,?,?,?,?,?,?,?,?,?,?,?,?,?,?)\", new_df_list)\n",
    "    conn.commit()\n",
    "    \n",
    "    return \"Ngrams from \" + path + \" added into wikidata.db\""
   ]
  },
  {
   "cell_type": "code",
   "execution_count": 57,
   "metadata": {},
   "outputs": [],
   "source": [
    "for i in paths:\n",
    "    update_wikidata_database(i)"
   ]
  },
  {
   "cell_type": "code",
   "execution_count": null,
   "metadata": {},
   "outputs": [],
   "source": [
    "# than I also added index on start_letter column"
   ]
  }
 ],
 "metadata": {
  "kernelspec": {
   "display_name": "Python 3",
   "language": "python",
   "name": "python3"
  },
  "language_info": {
   "codemirror_mode": {
    "name": "ipython",
    "version": 3
   },
   "file_extension": ".py",
   "mimetype": "text/x-python",
   "name": "python",
   "nbconvert_exporter": "python",
   "pygments_lexer": "ipython3",
   "version": "3.7.3"
  }
 },
 "nbformat": 4,
 "nbformat_minor": 2
}
